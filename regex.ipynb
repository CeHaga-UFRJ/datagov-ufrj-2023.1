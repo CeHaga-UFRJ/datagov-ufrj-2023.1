{
 "cells": [
  {
   "cell_type": "code",
   "execution_count": 4,
   "metadata": {},
   "outputs": [],
   "source": [
    "# Imports\n",
    "import re\n",
    "import wget\n",
    "import os"
   ]
  },
  {
   "cell_type": "code",
   "execution_count": 5,
   "metadata": {},
   "outputs": [],
   "source": [
    "def replace_name(name):\n",
    "    newName = name\n",
    "    newName = newName.title()\n",
    "    newName = newName.replace(' De ', ' de ')\n",
    "    newName = newName.replace(' Da ', ' da ')\n",
    "    newName = newName.replace(' Do ', ' do ')\n",
    "    newName = newName.replace(' Dos ', ' dos ')\n",
    "    newName = newName.replace(' Das ', ' das ')\n",
    "    newName = newName.replace(' E ', ' e ')\n",
    "\n",
    "    return newName"
   ]
  },
  {
   "cell_type": "code",
   "execution_count": 85,
   "metadata": {},
   "outputs": [
    {
     "name": "stdout",
     "output_type": "stream",
     "text": [
      "4903\n"
     ]
    }
   ],
   "source": [
    "with open('UFRJ_19.1/2019_1-Ingresso_pelo_SiSU-MEC.txt', 'r') as f:\n",
    "    with open('2019_1_UFRJ_matricula.csv', 'w') as o:\n",
    "        with open('teste2.txt','w') as t:\n",
    "            text = ''\n",
    "            for line in f:\n",
    "                line = line.replace('\f', '')\n",
    "                ignore = ['Emitido em 24/06/2019\\n',\n",
    "                        '\\n',\n",
    "                        'ALUNOS QUE INGRESSARAM NA UFRJ NO PRIMEIRO PERÍODO LETIVO DE 2019 ATRAVÉS DO SiSU/MEC\\n',\n",
    "                        'Turno\\n',\n",
    "                        'Polo\\n',\n",
    "                        'Concurso\\n',\n",
    "                        'Pontuação\\n',\n",
    "                        'Formação\\n',\n",
    "                        'Nome\\n',\n",
    "                        'Curso\\n',\n",
    "                        'Matrícula Número Enem\\n']\n",
    "                \n",
    "                if(line in ignore): continue\n",
    "\n",
    "                if(re.match(r'Página \\d+ de \\d+', line)): continue\n",
    "\n",
    "                if(line == 'Noturno Instituto de Psiquiatria da UFRJ - IPUB\\n'):\n",
    "                    text += 'Noturno\\nInstituto de Psiquiatria da UFRJ - IPUB\\n'\n",
    "                    t.write('Noturno\\nInstituto de Psiquiatria da UFRJ - IPUB\\n')\n",
    "                    continue\n",
    "                text += line\n",
    "                t.write(line)\n",
    "            \n",
    "            regex = r'([\\w \\u00C0-\\u00D6\\u00D8-\\u00DE]*)\\n([\\w \\u00C0-\\u00D6\\u00D8-\\u00DE\\-/:]*)\\n(Integral|Noturno|Matutino|Vespertino)\\n(Cidade Universitária|Polo de Xerém|Praia Vermelha|PRAIA VERMELHA|Faculdade de Direito|LARGO SÃO FRANCISCO|Observatório do Valongo|CAMPUS UFRJ - MACAÉ|Instituto de Psiquiatria da UFRJ - IPUB)\\n(SISU)\\n(\\d+(,\\d+)?)\\n([\\w \\u00C0-\\u00D6\\u00D8-\\u00DE-()]*)\\n(\\d+)\\n(\\d+)\\n'\n",
    "            pattern = re.compile(regex)\n",
    "            matches = re.findall(pattern, text)\n",
    "            print(len(matches))\n",
    "            header = 'Nome,Curso,Turno,Campus,SISU\\n'\n",
    "            o.write(header)\n",
    "            for match in matches:\n",
    "                name = replace_name(match[0])\n",
    "                course = replace_name(match[1])\n",
    "                time = replace_name(match[2])\n",
    "                campus = replace_name(match[3])\n",
    "                o.write(f'{name},{course},{time},{campus},1\\n')"
   ]
  },
  {
   "cell_type": "code",
   "execution_count": 88,
   "metadata": {},
   "outputs": [
    {
     "name": "stdout",
     "output_type": "stream",
     "text": [
      "3742\n"
     ]
    }
   ],
   "source": [
    "with open('UFRJ_19.2/2019_2-Ingresso_pelo_SiSU-MEC.txt', 'r') as f:\n",
    "    with open('2019_2_UFRJ_matricula.csv', 'w') as o:\n",
    "        with open('teste.txt', 'w') as t:\n",
    "            text = ''\n",
    "            for line in f:\n",
    "                line = line.replace('\f', '')\n",
    "                ignore = ['\\n',\n",
    "                        'ALUNOS QUE INGRESSARAM NA UFRJ NO SEGUNDO PERÍODO LETIVO DE 2019 ATRAVÉS DO SiSU/MEC\\n',\n",
    "                        'Turno\\n',\n",
    "                        'Polo\\n',\n",
    "                        'Concurso\\n',\n",
    "                        'Pontuação\\n',\n",
    "                        'Formação\\n',\n",
    "                        'Nome\\n',\n",
    "                        'Curso\\n',\n",
    "                        'Matrícula Número Enem\\n']\n",
    "                \n",
    "                if(line in ignore): continue\n",
    "\n",
    "                if(re.match(r'Página \\d+ de \\d+', line)): continue\n",
    "                if(re.match(r'Emitido em \\d+/\\d+/\\d+', line)): continue\n",
    "\n",
    "                if(line == 'Noturno Instituto de Psiquiatria da UFRJ - IPUB\\n'):\n",
    "                    text += 'Noturno\\nInstituto de Psiquiatria da UFRJ - IPUB\\n'\n",
    "                    t.write(text)\n",
    "                    continue\n",
    "                text += line\n",
    "                t.write(line)\n",
    "            \n",
    "            regex = r'([\\w \\u00C0-\\u00D6\\u00D8-\\u00DE\\u00E0-\\u00F6\\u00F8-\\u00FE]*)\\n([\\w \\u00C0-\\u00D6\\u00D8-\\u00DE\\u00E0-\\u00F6\\u00F8-\\u00FE\\-/:]*)\\n(Integral|Noturno|Matutino|Vespertino)\\n(Cidade Universitária|Polo de Xerém|Praia Vermelha|PRAIA VERMELHA|Faculdade de Direito|Faculdade de Direito|LARGO SÃO FRANCISCO|Observatório do Valongo|Campus UFRJ - Macaé|CAMPUS UFRJ - MACAÉ|Instituto de Psiquiatria da UFRJ - IPUB|FACULDADE DE DIREITO)\\n(SiSU 2o)\\n(\\d+(,\\d+)?)\\n([\\w \\u00C0-\\u00D6\\u00D8-\\u00DE\\u00E0-\\u00F6\\u00F8-\\u00FE-()]*)\\n(\\d+)\\n(\\d+)\\n'\n",
    "            pattern = re.compile(regex)\n",
    "            matches = re.findall(pattern, text)\n",
    "            print(len(matches))\n",
    "            header = 'Nome,Curso,Turno,Campus,SISU\\n'\n",
    "            o.write(header)\n",
    "            for match in matches:\n",
    "                name = replace_name(match[0])\n",
    "                course = replace_name(match[1])\n",
    "                time = replace_name(match[2])\n",
    "                campus = replace_name(match[3])\n",
    "                o.write(f'{name},{course},{time},{campus},2\\n')"
   ]
  },
  {
   "cell_type": "code",
   "execution_count": 8,
   "metadata": {},
   "outputs": [],
   "source": [
    "total = 0\n",
    "with open('UFRRJ_22.1/22_1_links.txt') as f:\n",
    "    text = f.read()\n",
    "    regex = r'<a href=\"([^\"]*)\"'\n",
    "    pattern = re.compile(regex)\n",
    "    matches = re.findall(pattern, text)\n",
    "    for i, match in enumerate(matches):\n",
    "        wget.download(match, f'UFRRJ_22.1/PDFs/{i}.pdf')\n",
    "        total += 1"
   ]
  },
  {
   "cell_type": "code",
   "execution_count": 43,
   "metadata": {},
   "outputs": [],
   "source": [
    "for i in range(total):\n",
    "    os.system(f'pdftotext UFRRJ_22.1/PDFs/{i}.pdf UFRRJ_22.1/Textos/{i}.txt -colspacing 0.3')"
   ]
  },
  {
   "cell_type": "code",
   "execution_count": null,
   "metadata": {},
   "outputs": [],
   "source": [
    "with open(f'UFRRJ_22.1/UFRRJ_matricula.txt','w') as o:\n",
    "    o.write('Nome,Curso,Turno,Campus,SISU\\n')\n",
    "    for i in range(total):\n",
    "    # for i in range(1):\n",
    "        with open(f'UFRRJ_22.1/Textos/{i}.txt','r') as f:\n",
    "            count = 0\n",
    "            curso = ''\n",
    "            turno = ''\n",
    "            campus = ''\n",
    "            lastLine = ''\n",
    "            for line in f:\n",
    "                count += 1\n",
    "                line = line.replace('\f','')\n",
    "\n",
    "                if(line == ''):\n",
    "                    lastLine = line\n",
    "                    continue\n",
    "                if(line == '\\n'):\n",
    "                    lastLine = line\n",
    "                    continue\n",
    "                if(re.match(r'[\\w-]+, \\d+ de \\w+ de \\d+.', line)):\n",
    "                    lastLine = line\n",
    "                    continue\n",
    "                if(re.match(r'\\d+/\\d+',line)):\n",
    "                    lastLine = line\n",
    "                    continue\n",
    "\n",
    "                ignore = [r'^UNIVERSIDADE FEDERAL RURAL DO RIO DE JANEIRO',\n",
    "                          r'^PRÓ-REITORIA DE GRADUAÇÃO',\n",
    "                          r'^PROGRAD/UFRRJ',\n",
    "                          r'^Relação de Convocação para Solicitação',\n",
    "                          r'^A Solicitação de Matrícula',\n",
    "                          r'^CAMPUS',\n",
    "                          r'^NOME DO CURSO',\n",
    "                          r'^TURNO',\n",
    "                          r'^NOME DO CANDIDATO']\n",
    "                combined = \"(\" + \")|(\".join(ignore) + \")\"\n",
    "                if(re.match(combined, line)):\n",
    "                    lastLine = line\n",
    "                    continue\n",
    "\n",
    "                line = line[:-1]\n",
    "                line = replace_name(line)\n",
    "\n",
    "                if(lastLine == 'CAMPUS\\n'):\n",
    "                    campus = line\n",
    "                    lastLine = line\n",
    "                    continue\n",
    "                if(lastLine == 'NOME DO CURSO\\n'):\n",
    "                    curso = line\n",
    "                    lastLine = line\n",
    "                    continue\n",
    "                if(lastLine == 'TURNO\\n'):\n",
    "                    turno = line\n",
    "                    lastLine = line\n",
    "                    continue\n",
    "                if(line == campus or line == curso or line == turno):\n",
    "                    continue\n",
    "                o.write(f'{line},{curso},{turno},{campus},1\\n')\n",
    "                \n",
    "                lastLine = line"
   ]
  },
  {
   "cell_type": "code",
   "execution_count": 13,
   "metadata": {},
   "outputs": [],
   "source": [
    "total = 0\n",
    "\n",
    "# Remove all files in the folder\n",
    "folder = 'UFRRJ_22.2/PDFs/'\n",
    "for filename in os.listdir(folder):\n",
    "    file_path = os.path.join(folder, filename)\n",
    "    try:\n",
    "        os.unlink(file_path)\n",
    "    except Exception as e:\n",
    "        print('Failed to delete %s. Reason: %s' % (file_path, e))\n",
    "\n",
    "with open('UFRRJ_22.2/22_2_links.txt') as f:\n",
    "    text = f.read()\n",
    "    regex = r'<a href=\"([^\"]*)\"'\n",
    "    pattern = re.compile(regex)\n",
    "    matches = re.findall(pattern, text)\n",
    "    for i, match in enumerate(matches):\n",
    "        wget.download(match, f'UFRRJ_22.2/PDFs/{i}.pdf')\n",
    "        total += 1"
   ]
  },
  {
   "cell_type": "code",
   "execution_count": 14,
   "metadata": {},
   "outputs": [],
   "source": [
    "for i in range(total):\n",
    "    os.system(f'pdftotext UFRRJ_22.2/PDFs/{i}.pdf UFRRJ_22.2/Textos/{i}.txt -fixed 4')"
   ]
  },
  {
   "cell_type": "code",
   "execution_count": 15,
   "metadata": {},
   "outputs": [
    {
     "name": "stdout",
     "output_type": "stream",
     "text": [
      "{'Sistemas de Informação', 'Engenharia de Materiais', 'Gestão Ambiental', 'Arquitetura e Urbanismo', 'Relações Internacionais', 'Letras - Espanhol', 'Direito', 'Ciências da Computação', 'Geologia', 'Hotelaria', 'Zootecnia', 'Turismo', 'Engenharia de Agrimensura e Cartográfica', 'Geografia', 'Física', 'História', 'Pedagogia', 'Jornalismo', 'Medicina Veterinária', 'Administração', 'Engenharia Agrícola e Ambiental', 'Ciências Sociais', 'Química', 'Matemática', 'Educação Física', 'Agronomia', 'Ciências Agrícolas', 'Engenharia Florestal', 'Letras - Inglês', 'Farmácia', 'Ciências Econômicas', 'Engenharia Química', 'Filosofia', 'Engenharia de Alimentos', 'Ciências Biológicas'}\n"
     ]
    }
   ],
   "source": [
    "cursos = set()\n",
    "cursos.add('Letras - Inglês')\n",
    "cursos.add('Letras - Espanhol')\n",
    "turnos = set()\n",
    "turnos.add('Integral')\n",
    "turnos.add('Noturno')\n",
    "turnos.add('Matutino')\n",
    "turnos.add('Vespertino')\n",
    "campus = set()\n",
    "campus.add('Seropédica')\n",
    "campus.add('Nova Iguaçu')\n",
    "campus.add('Três Rios')\n",
    "\n",
    "with open('UFRRJ_22.2/22_2_links.txt') as f:\n",
    "    text = f.read()\n",
    "    regex = r'<a href=\"[^\"]*\"[^>]*>([^</]*)<'\n",
    "    pattern = re.compile(regex)\n",
    "    matches = re.findall(pattern, text)\n",
    "    for match in matches:\n",
    "        cursos.add(match)\n",
    "\n",
    "print(cursos)"
   ]
  },
  {
   "cell_type": "code",
   "execution_count": 26,
   "metadata": {},
   "outputs": [],
   "source": [
    "def set_to_string(set):\n",
    "    string = ''\n",
    "    for item in set:\n",
    "        string += item + '|'\n",
    "    return string[:-1]\n",
    "\n",
    "with open(f'2022_2_UFRRJ_matricula.csv','w') as o:\n",
    "    o.write('Nome,Curso,Turno,Campus,SISU\\n')\n",
    "    for i in range(total):\n",
    "    # for i in range(2,3):\n",
    "        with open(f'UFRRJ_22.2/Textos/{i}.txt', 'r') as f:\n",
    "            text = f.read()\n",
    "            regex = fr'.*({set_to_string(campus)}).*({set_to_string(cursos)}).*({set_to_string(turnos)}) *(.*)\\n'\n",
    "            pattern = re.compile(regex, re.IGNORECASE)\n",
    "            matches = re.findall(pattern, text)\n",
    "            for match in matches:\n",
    "                curso = replace_name(match[1])\n",
    "                turno = replace_name(match[2])\n",
    "                campus = replace_name(match[0])\n",
    "                nome = replace_name(match[3])\n",
    "                o.write(f'{nome},{curso},{turno},{campus},2\\n')"
   ]
  }
 ],
 "metadata": {
  "kernelspec": {
   "display_name": "Python 3",
   "language": "python",
   "name": "python3"
  },
  "language_info": {
   "codemirror_mode": {
    "name": "ipython",
    "version": 3
   },
   "file_extension": ".py",
   "mimetype": "text/x-python",
   "name": "python",
   "nbconvert_exporter": "python",
   "pygments_lexer": "ipython3",
   "version": "3.8.10"
  },
  "orig_nbformat": 4
 },
 "nbformat": 4,
 "nbformat_minor": 2
}
